{
 "cells": [
  {
   "cell_type": "code",
   "execution_count": 8,
   "id": "34c45b7a",
   "metadata": {},
   "outputs": [],
   "source": [
    "# Cargamos la librería de pandas.\n",
    "import pandas as pd\n",
    "import warnings\n",
    "warnings.filterwarnings('ignore')"
   ]
  },
  {
   "cell_type": "code",
   "execution_count": 10,
   "id": "55bec9ef",
   "metadata": {},
   "outputs": [],
   "source": [
    "# Cargamos el dataset original.\n",
    "df = pd.read_csv('Restaurant reviews.csv')\n",
    "\n",
    "# Seleccionamos las columnas que utilizaremos en el modelo.\n",
    "nuevas_columnas = ['Review', 'Rating', 'Metadata']\n",
    "\n",
    "# Eliminamos el resto de columnas del dataset.\n",
    "reviews = df[nuevas_columnas]\n",
    "\n",
    "# Extraemos el número de Reviews y Followers de la columna Metadata en dos nuevas columnas.\n",
    "# El razonamiento detrás de esta transformación se encuentra en el notebook '1.0.1 Análisis Metadata'.\n",
    "reviews[['Reviews', 'Followers']] = reviews['Metadata'].str.extract('(\\d+)\\D*(\\d*)', expand=True)\n",
    "reviews[['Reviews', 'Followers']] = reviews[['Reviews', 'Followers']].apply(pd.to_numeric)\n",
    "reviews['Reviews'].fillna(0, inplace=True)\n",
    "reviews['Followers'].fillna(0, inplace=True)\n",
    "reviews = reviews.drop('Metadata', axis=1)"
   ]
  },
  {
   "cell_type": "code",
   "execution_count": null,
   "id": "8fb06825",
   "metadata": {
    "scrolled": true
   },
   "outputs": [
    {
     "name": "stderr",
     "output_type": "stream",
     "text": [
      "Some layers from the model checkpoint at nlptown/bert-base-multilingual-uncased-sentiment were not used when initializing TFBertForSequenceClassification: ['dropout_37']\n",
      "- This IS expected if you are initializing TFBertForSequenceClassification from the checkpoint of a model trained on another task or with another architecture (e.g. initializing a BertForSequenceClassification model from a BertForPreTraining model).\n",
      "- This IS NOT expected if you are initializing TFBertForSequenceClassification from the checkpoint of a model that you expect to be exactly identical (initializing a BertForSequenceClassification model from a BertForSequenceClassification model).\n",
      "All the layers of TFBertForSequenceClassification were initialized from the model checkpoint at nlptown/bert-base-multilingual-uncased-sentiment.\n",
      "If your task is similar to the task the model of the checkpoint was trained on, you can already use TFBertForSequenceClassification for predictions without further training.\n"
     ]
    }
   ],
   "source": [
    "# Generamos una valoración positiva, negativa o neutral para cada reseña. Debido al excesivo tiempo de computación\n",
    "# que requiere un LLM, se ha optado por emplear un modelo alternativo disponible en la librería Transformers de Hugging Face.\n",
    "\n",
    "from transformers import pipeline\n",
    "modelo_sentimientos = pipeline(model = \"nlptown/bert-base-multilingual-uncased-sentiment\")\n",
    "\n",
    "# Generamos la columna Sentimiento sobre la que guardaremos la valoración positiva, negativa o neutral de cada reseña.\n",
    "reviews['Sentimiento'] = ''\n",
    "# El modelo seleccionado nos devolverá un sentimiento entre 1 y 5. Consideraremos negativas las valoraciones 1 y 2, positivas\n",
    "# las valoraciones 4 y 5, y neutrales las valoradas con 3. Para que los datos se adecúen al formato input de un árbol de\n",
    "# decisión, la variable será numérica considerando -1 como negativo, 0 como neutral y 1 como positivo.\n",
    "mapping = {\n",
    "    '1 star': '-1',\n",
    "    '2 stars': '-1',\n",
    "    '3 stars': '0',\n",
    "    '4 stars': '1',\n",
    "    '5 stars': '1'\n",
    "}\n",
    "\n",
    "# Iteramos sobre cada reseña para obtener su sentimiento.\n",
    "for i in range(0, len(reviews)):\n",
    "    # Si la reseña es demasiado larga, el modelo no será capaz de analizarla y mostrará un Error. En tales casos, no\n",
    "    # se añadirá un sentimiento a la reseña.\n",
    "    try:\n",
    "        # Seleccionamos una reseña.\n",
    "        reseña = reviews['Review'].iloc[i]\n",
    "        # Aplicamos el modelo, que nos devolverá un diccionario con una valoración del sentimiento.\n",
    "        dict_valoracion = modelo_sentimientos(reseña)\n",
    "        # Extraemos la valoración del sentimiento (1 a 5) fuera del diccionario.\n",
    "        valoracion = dict_valoracion[0]['label']\n",
    "        # Transformamos la valoración a sentimiento positivo/negativo/neutral.\n",
    "        sentimiento = mapping[valoracion]\n",
    "        # Guardamos el sentimiento en la fila correspondiente del dataframe.\n",
    "        reviews['Sentimiento'].iloc[i] = sentimiento\n",
    "    # En caso de obtener Error por el tamaño de la reseña. No añadimos ningún valor en la fila correspondiente del dataframe.\n",
    "    except:\n",
    "        reviews['Sentimiento'].iloc[i] = float('nan')\n",
    "    \n",
    "# Desestimaremos aquellas reseñas para las que no haya sido posible obtener un sentimiento. Dado el tamaño del dataset,\n",
    "# consideramos que esta opción resulta más adecuada que otorgar una valoración neutral a tales reseñas.\n",
    "reviews.dropna(subset=['Sentimiento'], inplace=True)\n",
    "    \n",
    "# Eliminamos la columna Review.\n",
    "reviews = reviews.drop('Review', axis=1)"
   ]
  },
  {
   "cell_type": "code",
   "execution_count": 4,
   "id": "f56a6abc",
   "metadata": {
    "scrolled": true
   },
   "outputs": [
    {
     "name": "stdout",
     "output_type": "stream",
     "text": [
      "     Rating  Reviews  Followers Sentimiento\n",
      "7601   Like     12.0       21.0           1\n"
     ]
    }
   ],
   "source": [
    "# Observamos si hay alguna reseña con un Rating no numérico.\n",
    "ratings_no_numericos = reviews['Rating'].apply(pd.to_numeric, errors='coerce').isna()\n",
    "print(reviews[ratings_no_numericos])\n",
    "# Observamos como aparece una reseña sin valoración numérica. Eliminamos tal fila.\n",
    "reviews['Rating']=reviews['Rating'].apply(pd.to_numeric, errors='coerce')\n",
    "reviews.dropna(subset=['Rating'], inplace=True)"
   ]
  },
  {
   "cell_type": "code",
   "execution_count": 5,
   "id": "39ab64c4",
   "metadata": {},
   "outputs": [],
   "source": [
    "# Guardamos las transformaciones en el dataset reviews en un csv.\n",
    "reviews.to_csv('datos_procesados.csv', sep=';', index=False)"
   ]
  }
 ],
 "metadata": {
  "kernelspec": {
   "display_name": "Python 3 (ipykernel)",
   "language": "python",
   "name": "python3"
  },
  "language_info": {
   "codemirror_mode": {
    "name": "ipython",
    "version": 3
   },
   "file_extension": ".py",
   "mimetype": "text/x-python",
   "name": "python",
   "nbconvert_exporter": "python",
   "pygments_lexer": "ipython3",
   "version": "3.9.13"
  }
 },
 "nbformat": 4,
 "nbformat_minor": 5
}
